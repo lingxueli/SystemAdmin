{
 "cells": [
  {
   "cell_type": "code",
   "execution_count": null,
   "metadata": {},
   "outputs": [],
   "source": [
    "# disable root login from config file, then reload or restart the service\n",
    "[root@localhost ~]# cat /etc/ssh/sshd_config\n",
    "#\t$OpenBSD: sshd_config,v 1.103 2018/04/09 20:41:22 tj Exp $\n",
    "\n",
    "# This is the sshd server system-wide configuration file.  See\n",
    "# sshd_config(5) for more information.\n",
    "\n",
    "# Authentication:\n",
    "\n",
    "#LoginGraceTime 2m\n",
    "PermitRootLogin no\n",
    "#StrictModes yes\n",
    "#MaxAuthTries 6\n",
    "#MaxSessions 10\n",
    "[root@localhost ~]# systemctl restart sshd\n",
    "[root@localhost ~]# systemctl status sshd\n",
    "● sshd.service - OpenSSH server daemon\n",
    "   Loaded: loaded (/usr/lib/systemd/system/sshd.service; enabled; vendor preset: enabled)\n",
    "   Active: active (running) since Mon 2020-10-05 21:42:10 MDT; 5s ago\n",
    "     Docs: man:sshd(8)\n",
    "           man:sshd_config(5)\n",
    " Main PID: 7508 (sshd)\n",
    "    Tasks: 1 (limit: 11154)\n",
    "   Memory: 2.0M\n",
    "   CGroup: /system.slice/sshd.service\n",
    "           └─7508 /usr/sbin/sshd -D -oCiphers=aes256-gcm@openssh.com,chacha20-poly1305@openssh.com,aes256-ctr,aes256-cbc,aes128-gcm@openssh.com,aes128->\n",
    "\n",
    "Oct 05 21:42:10 localhost.localdomain systemd[1]: Starting OpenSSH server daemon...\n",
    "Oct 05 21:42:10 localhost.localdomain sshd[7508]: Server listening on 0.0.0.0 port 22.\n",
    "Oct 05 21:42:10 localhost.localdomain sshd[7508]: Server listening on :: port 22.\n",
    "Oct 05 21:42:10 localhost.localdomain systemd[1]: Started OpenSSH server daemon."
   ]
  },
  {
   "cell_type": "code",
   "execution_count": null,
   "metadata": {},
   "outputs": [],
   "source": [
    "# remote login\n",
    "ssh user@servername\n",
    "ssh -l user servername\n",
    "# if username is not specified, it takes the name of the current user"
   ]
  },
  {
   "cell_type": "code",
   "execution_count": null,
   "metadata": {},
   "outputs": [],
   "source": []
  }
 ],
 "metadata": {
  "kernelspec": {
   "display_name": "Python 3",
   "language": "python",
   "name": "python3"
  },
  "language_info": {
   "codemirror_mode": {
    "name": "ipython",
    "version": 3
   },
   "file_extension": ".py",
   "mimetype": "text/x-python",
   "name": "python",
   "nbconvert_exporter": "python",
   "pygments_lexer": "ipython3",
   "version": "3.6.9"
  }
 },
 "nbformat": 4,
 "nbformat_minor": 4
}
