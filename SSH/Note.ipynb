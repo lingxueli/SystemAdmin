{
 "cells": [
  {
   "cell_type": "code",
   "execution_count": null,
   "metadata": {},
   "outputs": [],
   "source": [
    "# disable root login from config file, then reload or restart the service\n",
    "[root@localhost ~]# cat /etc/ssh/sshd_config\n",
    "#\t$OpenBSD: sshd_config,v 1.103 2018/04/09 20:41:22 tj Exp $\n",
    "\n",
    "# This is the sshd server system-wide configuration file.  See\n",
    "# sshd_config(5) for more information.\n",
    "\n",
    "# Authentication:\n",
    "\n",
    "#LoginGraceTime 2m\n",
    "PermitRootLogin no\n",
    "#StrictModes yes\n",
    "#MaxAuthTries 6\n",
    "#MaxSessions 10\n",
    "\n",
    "[root@localhost ~]# systemctl restart sshd\n",
    "# Another option: systemctl reload sshd\n",
    "# some service pick up changes in config after reload, others only pick up the change after restart\n",
    "# user restart in all cases is recommended\n",
    "\n",
    "[root@localhost ~]# systemctl status sshd\n",
    "● sshd.service - OpenSSH server daemon\n",
    "   Loaded: loaded (/usr/lib/systemd/system/sshd.service; enabled; vendor preset: enabled)\n",
    "   Active: active (running) since Mon 2020-10-05 21:42:10 MDT; 5s ago\n",
    "     Docs: man:sshd(8)\n",
    "           man:sshd_config(5)\n",
    " Main PID: 7508 (sshd)\n",
    "    Tasks: 1 (limit: 11154)\n",
    "   Memory: 2.0M\n",
    "   CGroup: /system.slice/sshd.service\n",
    "           └─7508 /usr/sbin/sshd -D -oCiphers=aes256-gcm@openssh.com,chacha20-poly1305@openssh.com,aes256-ctr,aes256-cbc,aes128-gcm@openssh.com,aes128->\n",
    "\n",
    "Oct 05 21:42:10 localhost.localdomain systemd[1]: Starting OpenSSH server daemon...\n",
    "Oct 05 21:42:10 localhost.localdomain sshd[7508]: Server listening on 0.0.0.0 port 22.\n",
    "Oct 05 21:42:10 localhost.localdomain sshd[7508]: Server listening on :: port 22.\n",
    "Oct 05 21:42:10 localhost.localdomain systemd[1]: Started OpenSSH server daemon."
   ]
  },
  {
   "cell_type": "code",
   "execution_count": null,
   "metadata": {},
   "outputs": [],
   "source": [
    "# remote login\n",
    "ssh user@servername\n",
    "ssh -l user servername\n",
    "# if username is not specified, it takes the name of the current user"
   ]
  },
  {
   "cell_type": "code",
   "execution_count": null,
   "metadata": {},
   "outputs": [],
   "source": [
    "# configure alternative ssh port here\n",
    "# modify SELinux security lables for network port as shown in the next cell\n",
    "[root@localhost ~]# cat /etc/ssh/sshd_config\n",
    "# If you want to change the port on a SELinux system, you have to tell\n",
    "# SELinux about this change.\n",
    "# semanage port -a -t ssh_port_t -p tcp #PORTNUMBER\n",
    "#\n",
    "#Port 22\n",
    "#AddressFamily any\n",
    "#ListenAddress 0.0.0.0\n",
    "#ListenAddress ::"
   ]
  },
  {
   "cell_type": "code",
   "execution_count": null,
   "metadata": {},
   "outputs": [],
   "source": [
    "# check SELinux security lables for network port\n",
    "[root@localhost ~]# semanage port -l | less\n",
    "SELinux Port Type              Proto    Port Number\n",
    "\n",
    "afs3_callback_port_t           tcp      7001\n",
    "...\n",
    "ssh_port_t                     tcp      22\n",
    "...\n",
    "http_port_t                    tcp      80, 81, 443, 488, 8008, 8009, 8443, 9000\n",
    "\n",
    "# if the port doesn't have a security label, add a label, option -a\n",
    "#  lable port 2022 for access by sshd\n",
    "semanage port -a -t ssh_port_t tcp 2022\n",
    "\n",
    "# if the port already has a security label, modify the lable, option -m\n",
    "# modify lable of port 443 for access by sshd\n",
    "semanage port -m -t ssh_port_t tcp 443"
   ]
  }
 ],
 "metadata": {
  "kernelspec": {
   "display_name": "Python 3",
   "language": "python",
   "name": "python3"
  },
  "language_info": {
   "codemirror_mode": {
    "name": "ipython",
    "version": 3
   },
   "file_extension": ".py",
   "mimetype": "text/x-python",
   "name": "python",
   "nbconvert_exporter": "python",
   "pygments_lexer": "ipython3",
   "version": "3.6.9"
  }
 },
 "nbformat": 4,
 "nbformat_minor": 4
}
